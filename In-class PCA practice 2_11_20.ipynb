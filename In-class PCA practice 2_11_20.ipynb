{
 "cells": [
  {
   "cell_type": "markdown",
   "metadata": {},
   "source": [
    "# IBS 574 Python Homework 3"
   ]
  },
  {
   "cell_type": "markdown",
   "metadata": {},
   "source": [
    "#### Add your name and the date your notebook was last updated"
   ]
  },
  {
   "cell_type": "code",
   "execution_count": 4,
   "metadata": {},
   "outputs": [
    {
     "name": "stdout",
     "output_type": "stream",
     "text": [
      "Sydney Sunna \n",
      "last updated: 2020-02-11 14:54:08 Eastern Standard Time\n"
     ]
    }
   ],
   "source": [
    "%reload_ext watermark\n",
    "%watermark -a \"Sydney Sunna\" -d -t -u -n -z"
   ]
  },
  {
   "cell_type": "markdown",
   "metadata": {},
   "source": [
    "#### Load libraries"
   ]
  },
  {
   "cell_type": "code",
   "execution_count": 5,
   "metadata": {},
   "outputs": [],
   "source": [
    "import pandas as pd\n",
    "import numpy as np\n",
    "from sinfo import sinfo\n",
    "from sklearn.decomposition import PCA\n",
    "from sklearn import preprocessing\n",
    "from sklearn.preprocessing import StandardScaler\n",
    "import seaborn as sns\n",
    "import random\n",
    "import matplotlib.pyplot as plt"
   ]
  },
  {
   "cell_type": "markdown",
   "metadata": {},
   "source": [
    "#### Load data\n",
    "note: include test for this chunk from previous homework"
   ]
  },
  {
   "cell_type": "code",
   "execution_count": 6,
   "metadata": {},
   "outputs": [],
   "source": [
    "countdata = \"https://raw.githubusercontent.com/jessmrandall/IBS574Spring2020/master/data/countdata.csv\"\n",
    "counts = pd.read_csv(countdata, index_col = 0, sep = \"\\t\")"
   ]
  },
  {
   "cell_type": "markdown",
   "metadata": {},
   "source": [
    "#### Prepare data for PCA Analysis"
   ]
  },
  {
   "cell_type": "code",
   "execution_count": 7,
   "metadata": {},
   "outputs": [],
   "source": [
    "counts_transpose = counts.T\n",
    "len(counts_transpose) == 14\n",
    "group = ['Control', 'Control', 'Control', 'Control', 'Control', 'Control', 'Control', 'Case', 'Case', 'Case', 'Case', 'Case', 'Case', 'Case']\n",
    "counts_transpose['group'] = group\n",
    "features = pd.Series(counts_transpose.columns)[0:14944]\n",
    "feature_arr = counts_transpose.loc[:, features].values\n",
    "target_arr = counts_transpose.loc[:, ['group']].values\n",
    "fitted_features = StandardScaler().fit_transform(feature_arr)\n"
   ]
  },
  {
   "cell_type": "markdown",
   "metadata": {},
   "source": [
    "#### Determine Principal Components\n",
    "note: include test for this chunk from previous homework"
   ]
  },
  {
   "cell_type": "code",
   "execution_count": 11,
   "metadata": {},
   "outputs": [
    {
     "data": {
      "text/html": [
       "<div>\n",
       "<style scoped>\n",
       "    .dataframe tbody tr th:only-of-type {\n",
       "        vertical-align: middle;\n",
       "    }\n",
       "\n",
       "    .dataframe tbody tr th {\n",
       "        vertical-align: top;\n",
       "    }\n",
       "\n",
       "    .dataframe thead th {\n",
       "        text-align: right;\n",
       "    }\n",
       "</style>\n",
       "<table border=\"1\" class=\"dataframe\">\n",
       "  <thead>\n",
       "    <tr style=\"text-align: right;\">\n",
       "      <th></th>\n",
       "      <th>PC1</th>\n",
       "      <th>PC2</th>\n",
       "      <th>group</th>\n",
       "    </tr>\n",
       "  </thead>\n",
       "  <tbody>\n",
       "    <tr>\n",
       "      <th>T02</th>\n",
       "      <td>126.578151</td>\n",
       "      <td>22.172512</td>\n",
       "      <td>Control</td>\n",
       "    </tr>\n",
       "    <tr>\n",
       "      <th>T04</th>\n",
       "      <td>99.182056</td>\n",
       "      <td>1.424350</td>\n",
       "      <td>Control</td>\n",
       "    </tr>\n",
       "    <tr>\n",
       "      <th>T06</th>\n",
       "      <td>75.563747</td>\n",
       "      <td>-19.338757</td>\n",
       "      <td>Control</td>\n",
       "    </tr>\n",
       "    <tr>\n",
       "      <th>T08</th>\n",
       "      <td>50.782996</td>\n",
       "      <td>-40.197730</td>\n",
       "      <td>Control</td>\n",
       "    </tr>\n",
       "    <tr>\n",
       "      <th>T10</th>\n",
       "      <td>2.998503</td>\n",
       "      <td>-81.795995</td>\n",
       "      <td>Control</td>\n",
       "    </tr>\n",
       "    <tr>\n",
       "      <th>T12</th>\n",
       "      <td>-14.584119</td>\n",
       "      <td>-78.680747</td>\n",
       "      <td>Control</td>\n",
       "    </tr>\n",
       "    <tr>\n",
       "      <th>T14</th>\n",
       "      <td>-2.030800</td>\n",
       "      <td>-62.421594</td>\n",
       "      <td>Control</td>\n",
       "    </tr>\n",
       "    <tr>\n",
       "      <th>T01</th>\n",
       "      <td>-77.569590</td>\n",
       "      <td>-40.686478</td>\n",
       "      <td>Case</td>\n",
       "    </tr>\n",
       "    <tr>\n",
       "      <th>T03</th>\n",
       "      <td>-77.841672</td>\n",
       "      <td>-19.285563</td>\n",
       "      <td>Case</td>\n",
       "    </tr>\n",
       "    <tr>\n",
       "      <th>T05</th>\n",
       "      <td>-81.150428</td>\n",
       "      <td>-13.488447</td>\n",
       "      <td>Case</td>\n",
       "    </tr>\n",
       "    <tr>\n",
       "      <th>T07</th>\n",
       "      <td>-48.845662</td>\n",
       "      <td>40.170020</td>\n",
       "      <td>Case</td>\n",
       "    </tr>\n",
       "    <tr>\n",
       "      <th>T09</th>\n",
       "      <td>-33.225792</td>\n",
       "      <td>68.643512</td>\n",
       "      <td>Case</td>\n",
       "    </tr>\n",
       "    <tr>\n",
       "      <th>T11</th>\n",
       "      <td>-16.961228</td>\n",
       "      <td>94.978406</td>\n",
       "      <td>Case</td>\n",
       "    </tr>\n",
       "    <tr>\n",
       "      <th>T13</th>\n",
       "      <td>-2.896162</td>\n",
       "      <td>128.506511</td>\n",
       "      <td>Case</td>\n",
       "    </tr>\n",
       "  </tbody>\n",
       "</table>\n",
       "</div>"
      ],
      "text/plain": [
       "            PC1         PC2    group\n",
       "T02  126.578151   22.172512  Control\n",
       "T04   99.182056    1.424350  Control\n",
       "T06   75.563747  -19.338757  Control\n",
       "T08   50.782996  -40.197730  Control\n",
       "T10    2.998503  -81.795995  Control\n",
       "T12  -14.584119  -78.680747  Control\n",
       "T14   -2.030800  -62.421594  Control\n",
       "T01  -77.569590  -40.686478     Case\n",
       "T03  -77.841672  -19.285563     Case\n",
       "T05  -81.150428  -13.488447     Case\n",
       "T07  -48.845662   40.170020     Case\n",
       "T09  -33.225792   68.643512     Case\n",
       "T11  -16.961228   94.978406     Case\n",
       "T13   -2.896162  128.506511     Case"
      ]
     },
     "execution_count": 11,
     "metadata": {},
     "output_type": "execute_result"
    }
   ],
   "source": [
    "pca = PCA(n_components=2)\n",
    "random.seed(2136044)\n",
    "pca=PCA(n_components = 2, random_state = 2136044)\n",
    "principalComponents = pca.fit_transform(fitted_features)\n",
    "principalDataframe = pd.DataFrame(data = principalComponents, columns = ['PC1','PC2'])\n",
    "principalDataframe.index = counts_transpose.index\n",
    "targetDataframe = counts_transpose[['group']]\n",
    "newDataframe = pd.concat([principalDataframe, targetDataframe],axis = 1)\n",
    "newDataframe"
   ]
  },
  {
   "cell_type": "markdown",
   "metadata": {},
   "source": [
    "#### Graph the principal components by sample group"
   ]
  },
  {
   "cell_type": "code",
   "execution_count": 21,
   "metadata": {},
   "outputs": [
    {
     "data": {
      "text/plain": [
       "Text(-100, 100, 'Case')"
      ]
     },
     "execution_count": 21,
     "metadata": {},
     "output_type": "execute_result"
    },
    {
     "data": {
      "image/png": "[encoded data removed]",
      "text/plain": [
       "<Figure size 576x576 with 1 Axes>"
      ]
     },
     "metadata": {
      "needs_background": "light"
     },
     "output_type": "display_data"
    }
   ],
   "source": [
    "\n",
    "#iris is newDataframe\n",
    "#subset\n",
    "Case = newDataframe.query(\"group == 'Case'\")\n",
    "Control = newDataframe.query(\"group == 'Control'\")\n",
    "f, ax = plt.subplots(figsize=(8, 8)) # makes empty box\n",
    "ax.set_aspect(\"equal\")\n",
    "ax = sns.kdeplot(Case.PC1, Case.PC2,\n",
    "                cmap= \"Reds\", shade=True, shade_lowest=False)\n",
    "ax = sns.kdeplot(Control.PC1, Control.PC2,\n",
    "                cmap= \"Blues\", shade=True, shade_lowest=False)\n",
    "red = sns.color_palette(\"Reds\")[-2]\n",
    "blue = sns.color_palette(\"Blues\")[-2]\n",
    "ax.text(150, 0, \"Control\", size=16, color=blue)\n",
    "ax.text(-100, 100, \"Case\", size=16, color=red)"
   ]
  },
  {
   "cell_type": "code",
   "execution_count": 28,
   "metadata": {},
   "outputs": [
    {
     "data": {
      "image/png": "[encoded data removed]",
      "text/plain": [
       "<Figure size 432x288 with 1 Axes>"
      ]
     },
     "metadata": {
      "needs_background": "light"
     },
     "output_type": "display_data"
    }
   ],
   "source": [
    "ax = sns.boxplot(x=\"group\", y=\"PC1\", data= newDataframe)\n",
    "ax = sns.swarmplot(x=\"group\", y=\"PC1\", data=newDataframe, color=\".25\")"
   ]
  },
  {
   "cell_type": "markdown",
   "metadata": {},
   "source": [
    "#### Interpret the graph for your principal investigator using explained variance"
   ]
  },
  {
   "cell_type": "code",
   "execution_count": 12,
   "metadata": {},
   "outputs": [
    {
     "data": {
      "text/plain": [
       "array([0.39218002, 0.36808828])"
      ]
     },
     "execution_count": 12,
     "metadata": {},
     "output_type": "execute_result"
    }
   ],
   "source": [
    "#explained variance tells you how much variance is explained by each principal component (due to the fact that your samples are in a group)\n",
    "#pca documentation in scikitlearn look up explained_variance_ratio for more info https://scikit-learn.org/stable/modules/generated/sklearn.decomposition.PCA.html\n",
    "pca.explained_variance_ratio_\n",
    "\n",
    "#first number is represented by PC1 and the second one is PC2 hopefully PC1 explains far more variance than PC2 haha\n"
   ]
  },
  {
   "cell_type": "markdown",
   "metadata": {},
   "source": [
    "Aproximately 39 % of the variability between these sample groups is explained by a sample being either a case or a control. Approximately 37 % can be attributed to another variable unaccounted for in the experimental design.\n",
    "\n",
    "Between these two principal components, we can account for rouchly 80% of the variance in the data."
   ]
  },
  {
   "cell_type": "markdown",
   "metadata": {},
   "source": [
    "#### Report Session Information\n"
   ]
  },
  {
   "cell_type": "code",
   "execution_count": 13,
   "metadata": {},
   "outputs": [
    {
     "name": "stdout",
     "output_type": "stream",
     "text": [
      "-----\n",
      "numpy       1.18.1\n",
      "pandas      1.0.0\n",
      "seaborn     0.10.0\n",
      "sinfo       0.3.1\n",
      "sklearn     0.22.1\n",
      "-----\n",
      "IPython             7.12.0\n",
      "jupyter_client      5.3.4\n",
      "jupyter_core        4.6.1\n",
      "jupyterlab          1.2.6\n",
      "notebook            6.0.3\n",
      "-----\n",
      "Python 3.8.1 (default, Jan  8 2020, 15:55:49) [MSC v.1916 64 bit (AMD64)]\n",
      "Windows-10-10.0.18362-SP0\n",
      "8 logical CPU cores, Intel64 Family 6 Model 142 Stepping 12, GenuineIntel\n",
      "-----\n",
      "Session information updated at 2020-02-11 14:25\n"
     ]
    }
   ],
   "source": [
    "sinfo()"
   ]
  }
 ],
 "metadata": {
  "kernelspec": {
   "display_name": "Python 3",
   "language": "python",
   "name": "python3"
  },
  "language_info": {
   "codemirror_mode": {
    "name": "ipython",
    "version": 3
   },
   "file_extension": ".py",
   "mimetype": "text/x-python",
   "name": "python",
   "nbconvert_exporter": "python",
   "pygments_lexer": "ipython3",
   "version": "3.8.1"
  }
 },
 "nbformat": 4,
 "nbformat_minor": 2
}
